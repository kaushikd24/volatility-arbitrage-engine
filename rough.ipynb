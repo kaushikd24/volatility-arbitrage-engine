{
 "cells": [
  {
   "cell_type": "code",
   "execution_count": 196,
   "metadata": {},
   "outputs": [],
   "source": [
    "import pandas as pd\n",
    "import numpy as np\n",
    "import matplotlib.pyplot as plt\n",
    "import seaborn as sns\n",
    "import os\n",
    "\n"
   ]
  },
  {
   "cell_type": "code",
   "execution_count": 197,
   "metadata": {},
   "outputs": [],
   "source": [
    "from strategy_engine.trade_constructor import Trade, StoreTrades\n",
    "from strategy_engine.trade_constructor import trades\n",
    "from strategy_engine.trade_constructor import market_data\n",
    "from strategy_engine.trade_constructor import trade_data"
   ]
  },
  {
   "cell_type": "code",
   "execution_count": 198,
   "metadata": {},
   "outputs": [
    {
     "data": {
      "text/html": [
       "<div>\n",
       "<style scoped>\n",
       "    .dataframe tbody tr th:only-of-type {\n",
       "        vertical-align: middle;\n",
       "    }\n",
       "\n",
       "    .dataframe tbody tr th {\n",
       "        vertical-align: top;\n",
       "    }\n",
       "\n",
       "    .dataframe thead th {\n",
       "        text-align: right;\n",
       "    }\n",
       "</style>\n",
       "<table border=\"1\" class=\"dataframe\">\n",
       "  <thead>\n",
       "    <tr style=\"text-align: right;\">\n",
       "      <th></th>\n",
       "      <th>QUOTE_DATE</th>\n",
       "      <th>EXPIRE_DATE</th>\n",
       "      <th>STRIKE</th>\n",
       "      <th>action</th>\n",
       "      <th>position_type</th>\n",
       "      <th>confidence</th>\n",
       "      <th>entry_price</th>\n",
       "    </tr>\n",
       "  </thead>\n",
       "  <tbody>\n",
       "    <tr>\n",
       "      <th>0</th>\n",
       "      <td>2023-08-01</td>\n",
       "      <td>2023-08-01</td>\n",
       "      <td>370.0</td>\n",
       "      <td>SELL</td>\n",
       "      <td>SHORT_PUT</td>\n",
       "      <td>0.999911</td>\n",
       "      <td>0.005</td>\n",
       "    </tr>\n",
       "    <tr>\n",
       "      <th>1</th>\n",
       "      <td>2023-08-01</td>\n",
       "      <td>2023-08-01</td>\n",
       "      <td>380.0</td>\n",
       "      <td>SELL</td>\n",
       "      <td>SHORT_PUT</td>\n",
       "      <td>0.999911</td>\n",
       "      <td>0.005</td>\n",
       "    </tr>\n",
       "    <tr>\n",
       "      <th>2</th>\n",
       "      <td>2023-08-01</td>\n",
       "      <td>2023-08-01</td>\n",
       "      <td>388.0</td>\n",
       "      <td>SELL</td>\n",
       "      <td>SHORT_PUT</td>\n",
       "      <td>0.999912</td>\n",
       "      <td>0.005</td>\n",
       "    </tr>\n",
       "    <tr>\n",
       "      <th>3</th>\n",
       "      <td>2023-08-01</td>\n",
       "      <td>2023-08-01</td>\n",
       "      <td>390.0</td>\n",
       "      <td>SELL</td>\n",
       "      <td>SHORT_PUT</td>\n",
       "      <td>0.999877</td>\n",
       "      <td>0.005</td>\n",
       "    </tr>\n",
       "    <tr>\n",
       "      <th>4</th>\n",
       "      <td>2023-08-01</td>\n",
       "      <td>2023-08-01</td>\n",
       "      <td>395.0</td>\n",
       "      <td>SELL</td>\n",
       "      <td>SHORT_PUT</td>\n",
       "      <td>0.999775</td>\n",
       "      <td>0.005</td>\n",
       "    </tr>\n",
       "  </tbody>\n",
       "</table>\n",
       "</div>"
      ],
      "text/plain": [
       "   QUOTE_DATE EXPIRE_DATE  STRIKE action position_type  confidence  \\\n",
       "0  2023-08-01  2023-08-01   370.0   SELL     SHORT_PUT    0.999911   \n",
       "1  2023-08-01  2023-08-01   380.0   SELL     SHORT_PUT    0.999911   \n",
       "2  2023-08-01  2023-08-01   388.0   SELL     SHORT_PUT    0.999912   \n",
       "3  2023-08-01  2023-08-01   390.0   SELL     SHORT_PUT    0.999877   \n",
       "4  2023-08-01  2023-08-01   395.0   SELL     SHORT_PUT    0.999775   \n",
       "\n",
       "   entry_price  \n",
       "0        0.005  \n",
       "1        0.005  \n",
       "2        0.005  \n",
       "3        0.005  \n",
       "4        0.005  "
      ]
     },
     "execution_count": 198,
     "metadata": {},
     "output_type": "execute_result"
    }
   ],
   "source": [
    "trade_data.head()"
   ]
  },
  {
   "cell_type": "code",
   "execution_count": 199,
   "metadata": {},
   "outputs": [
    {
     "data": {
      "text/plain": [
       "Index(['QUOTE_DATE', 'EXPIRE_DATE', 'STRIKE', 'action', 'position_type',\n",
       "       'confidence', 'entry_price'],\n",
       "      dtype='object')"
      ]
     },
     "execution_count": 199,
     "metadata": {},
     "output_type": "execute_result"
    }
   ],
   "source": [
    "trade_data.columns"
   ]
  },
  {
   "cell_type": "code",
   "execution_count": 200,
   "metadata": {},
   "outputs": [
    {
     "data": {
      "text/plain": [
       "Index(['QUOTE_DATE', 'QUOTE_TIME_HOURS', 'UNDERLYING_LAST', 'EXPIRE_DATE',\n",
       "       'DTE', 'STRIKE', 'C_BID', 'C_ASK', 'C_IV', 'C_DELTA', 'C_GAMMA',\n",
       "       'C_THETA', 'C_VEGA', 'C_RHO', 'C_VOLUME', 'P_BID', 'P_ASK', 'P_IV',\n",
       "       'P_DELTA', 'P_GAMMA', 'P_THETA', 'P_VEGA', 'P_RHO', 'P_VOLUME',\n",
       "       'STRIKE_DISTANCE', 'STRIKE_DISTANCE_PCT'],\n",
       "      dtype='object')"
      ]
     },
     "execution_count": 200,
     "metadata": {},
     "output_type": "execute_result"
    }
   ],
   "source": [
    "market_data.columns"
   ]
  },
  {
   "cell_type": "code",
   "execution_count": null,
   "metadata": {},
   "outputs": [],
   "source": [
    "class BacktestEngine:\n",
    "    def __init__(self, trades, trade_data: pd.DataFrame, market_data: pd.DataFrame):\n",
    "        self.trades = trades\n",
    "        self.trade_data = trade_data\n",
    "        self.market_data = market_data\n",
    "        \n",
    "    def run(self):\n",
    "        \n",
    "        results = []\n",
    "        \n",
    "        for trade in self.trades:\n",
    "            try:\n",
    "                entry_date = self.trade_data['QUOTE_DATE'] == trade.entry_date\n",
    "                exit_date = self.trade_data['EXPIRE_DATE'] == trade.exit_date\n",
    "                strike = self.trade_data['STRIKE'] == trade.strike\n",
    "                entry_price = self.trade_data['entry_price'] == trade.entry_price\n",
    "                exit_price = self.market_data[['UNDERLYING_LAST']][self.market_data['QUOTE_DATE']==trade.entry_date] && ['EXPIRE_DATE'==trade.exit_date] && ['STRIKE'==trade.strike]]\n",
    "                \n",
    "                    \n"
   ]
  }
 ],
 "metadata": {
  "language_info": {
   "name": "python"
  }
 },
 "nbformat": 4,
 "nbformat_minor": 2
}
