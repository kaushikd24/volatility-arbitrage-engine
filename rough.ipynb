{
 "cells": [
  {
   "cell_type": "code",
   "execution_count": 1,
   "metadata": {},
   "outputs": [],
   "source": [
    "import pandas as pd\n",
    "import numpy as np\n",
    "import matplotlib.pyplot as plt\n",
    "import seaborn as sns   "
   ]
  },
  {
   "cell_type": "code",
   "execution_count": 2,
   "metadata": {},
   "outputs": [],
   "source": [
    "from vol_surface.vol_surface_builder import dates, expire_dates\n"
   ]
  },
  {
   "cell_type": "code",
   "execution_count": 23,
   "metadata": {},
   "outputs": [],
   "source": [
    "smile_features = pd.read_csv('data/smile_features.csv', index_col = 0)"
   ]
  },
  {
   "cell_type": "code",
   "execution_count": 24,
   "metadata": {},
   "outputs": [
    {
     "data": {
      "text/html": [
       "<div>\n",
       "<style scoped>\n",
       "    .dataframe tbody tr th:only-of-type {\n",
       "        vertical-align: middle;\n",
       "    }\n",
       "\n",
       "    .dataframe tbody tr th {\n",
       "        vertical-align: top;\n",
       "    }\n",
       "\n",
       "    .dataframe thead th {\n",
       "        text-align: right;\n",
       "    }\n",
       "</style>\n",
       "<table border=\"1\" class=\"dataframe\">\n",
       "  <thead>\n",
       "    <tr style=\"text-align: right;\">\n",
       "      <th></th>\n",
       "      <th>quote_date</th>\n",
       "      <th>expire_date</th>\n",
       "      <th>atm_iv</th>\n",
       "      <th>skew</th>\n",
       "      <th>curvature</th>\n",
       "    </tr>\n",
       "  </thead>\n",
       "  <tbody>\n",
       "    <tr>\n",
       "      <th>0</th>\n",
       "      <td>2023-08-01</td>\n",
       "      <td>2023-08-01</td>\n",
       "      <td>0.368407</td>\n",
       "      <td>-5.294118</td>\n",
       "      <td>79.521206</td>\n",
       "    </tr>\n",
       "    <tr>\n",
       "      <th>1</th>\n",
       "      <td>2023-08-01</td>\n",
       "      <td>2023-08-02</td>\n",
       "      <td>0.075963</td>\n",
       "      <td>-5.731881</td>\n",
       "      <td>11.236018</td>\n",
       "    </tr>\n",
       "    <tr>\n",
       "      <th>2</th>\n",
       "      <td>2023-08-01</td>\n",
       "      <td>2023-08-03</td>\n",
       "      <td>0.097738</td>\n",
       "      <td>-4.005577</td>\n",
       "      <td>9.032630</td>\n",
       "    </tr>\n",
       "    <tr>\n",
       "      <th>3</th>\n",
       "      <td>2023-08-01</td>\n",
       "      <td>2023-08-04</td>\n",
       "      <td>0.103226</td>\n",
       "      <td>-3.435891</td>\n",
       "      <td>4.026443</td>\n",
       "    </tr>\n",
       "    <tr>\n",
       "      <th>4</th>\n",
       "      <td>2023-08-01</td>\n",
       "      <td>2023-08-07</td>\n",
       "      <td>0.097024</td>\n",
       "      <td>-1.872508</td>\n",
       "      <td>14.080939</td>\n",
       "    </tr>\n",
       "  </tbody>\n",
       "</table>\n",
       "</div>"
      ],
      "text/plain": [
       "   quote_date expire_date    atm_iv      skew  curvature\n",
       "0  2023-08-01  2023-08-01  0.368407 -5.294118  79.521206\n",
       "1  2023-08-01  2023-08-02  0.075963 -5.731881  11.236018\n",
       "2  2023-08-01  2023-08-03  0.097738 -4.005577   9.032630\n",
       "3  2023-08-01  2023-08-04  0.103226 -3.435891   4.026443\n",
       "4  2023-08-01  2023-08-07  0.097024 -1.872508  14.080939"
      ]
     },
     "execution_count": 24,
     "metadata": {},
     "output_type": "execute_result"
    }
   ],
   "source": [
    "smile_features.head()"
   ]
  },
  {
   "cell_type": "code",
   "execution_count": 25,
   "metadata": {},
   "outputs": [],
   "source": [
    "smile_features.set_index(['quote_date', 'expire_date'], inplace = True)"
   ]
  },
  {
   "cell_type": "code",
   "execution_count": 26,
   "metadata": {},
   "outputs": [
    {
     "data": {
      "text/html": [
       "<div>\n",
       "<style scoped>\n",
       "    .dataframe tbody tr th:only-of-type {\n",
       "        vertical-align: middle;\n",
       "    }\n",
       "\n",
       "    .dataframe tbody tr th {\n",
       "        vertical-align: top;\n",
       "    }\n",
       "\n",
       "    .dataframe thead th {\n",
       "        text-align: right;\n",
       "    }\n",
       "</style>\n",
       "<table border=\"1\" class=\"dataframe\">\n",
       "  <thead>\n",
       "    <tr style=\"text-align: right;\">\n",
       "      <th></th>\n",
       "      <th></th>\n",
       "      <th>atm_iv</th>\n",
       "      <th>skew</th>\n",
       "      <th>curvature</th>\n",
       "    </tr>\n",
       "    <tr>\n",
       "      <th>quote_date</th>\n",
       "      <th>expire_date</th>\n",
       "      <th></th>\n",
       "      <th></th>\n",
       "      <th></th>\n",
       "    </tr>\n",
       "  </thead>\n",
       "  <tbody>\n",
       "    <tr>\n",
       "      <th rowspan=\"5\" valign=\"top\">2023-08-01</th>\n",
       "      <th>2023-08-01</th>\n",
       "      <td>0.368407</td>\n",
       "      <td>-5.294118</td>\n",
       "      <td>79.521206</td>\n",
       "    </tr>\n",
       "    <tr>\n",
       "      <th>2023-08-02</th>\n",
       "      <td>0.075963</td>\n",
       "      <td>-5.731881</td>\n",
       "      <td>11.236018</td>\n",
       "    </tr>\n",
       "    <tr>\n",
       "      <th>2023-08-03</th>\n",
       "      <td>0.097738</td>\n",
       "      <td>-4.005577</td>\n",
       "      <td>9.032630</td>\n",
       "    </tr>\n",
       "    <tr>\n",
       "      <th>2023-08-04</th>\n",
       "      <td>0.103226</td>\n",
       "      <td>-3.435891</td>\n",
       "      <td>4.026443</td>\n",
       "    </tr>\n",
       "    <tr>\n",
       "      <th>2023-08-07</th>\n",
       "      <td>0.097024</td>\n",
       "      <td>-1.872508</td>\n",
       "      <td>14.080939</td>\n",
       "    </tr>\n",
       "  </tbody>\n",
       "</table>\n",
       "</div>"
      ],
      "text/plain": [
       "                          atm_iv      skew  curvature\n",
       "quote_date expire_date                               \n",
       "2023-08-01 2023-08-01   0.368407 -5.294118  79.521206\n",
       "           2023-08-02   0.075963 -5.731881  11.236018\n",
       "           2023-08-03   0.097738 -4.005577   9.032630\n",
       "           2023-08-04   0.103226 -3.435891   4.026443\n",
       "           2023-08-07   0.097024 -1.872508  14.080939"
      ]
     },
     "execution_count": 26,
     "metadata": {},
     "output_type": "execute_result"
    }
   ],
   "source": [
    "smile_features.head()"
   ]
  },
  {
   "cell_type": "code",
   "execution_count": 27,
   "metadata": {},
   "outputs": [],
   "source": [
    "term_structure_features = []"
   ]
  },
  {
   "cell_type": "code",
   "execution_count": 29,
   "metadata": {},
   "outputs": [],
   "source": [
    "smile_features['quote_date'] = pd.to_datetime(smile_features['quote_date'])\n",
    "smile_features['expire_date'] = pd.to_datetime(smile_features['expire_date'])\n"
   ]
  },
  {
   "cell_type": "code",
   "execution_count": 30,
   "metadata": {},
   "outputs": [],
   "source": [
    "smile_features.reset_index(inplace = True)\n",
    "grouped = smile_features.groupby('quote_date')\n",
    "\n",
    "for quote_date, group in grouped:\n",
    "    group['dte'] = (group['expire_date'] - quote_date).dt.days\n",
    "    group = group[group['dte']>0]\n",
    "    \n",
    "    if len(group) > 5:\n",
    "        x = group['dte'].values\n",
    "        x = x/30 #so that curvature is not very low\n",
    "        y =group['atm_iv'].values\n",
    "        \n",
    "        coeffs = np.polyfit(x,y,2)\n",
    "        poly= np.poly1d(coeffs)\n",
    "        \n",
    "        iv_slope = poly.deriv()(30/30)\n",
    "        iv_curvature = poly.deriv(2)(30/30)\n",
    "        short_term_iv = poly(7/30)\n",
    "        long_term_iv = poly(90/30)\n",
    "        term_spread = long_term_iv - short_term_iv\n",
    "        \n",
    "        term_structure_features.append({\n",
    "            'quote_date': quote_date,\n",
    "            'iv_slope': iv_slope,\n",
    "            'iv_curvature': iv_curvature,\n",
    "            'short_term_iv': short_term_iv,\n",
    "            'long_term_iv': long_term_iv,\n",
    "            'term_spread': term_spread\n",
    "        })"
   ]
  },
  {
   "cell_type": "code",
   "execution_count": 31,
   "metadata": {},
   "outputs": [],
   "source": [
    "term_structure_features = pd.DataFrame(term_structure_features)"
   ]
  },
  {
   "cell_type": "code",
   "execution_count": 32,
   "metadata": {},
   "outputs": [
    {
     "data": {
      "text/html": [
       "<div>\n",
       "<style scoped>\n",
       "    .dataframe tbody tr th:only-of-type {\n",
       "        vertical-align: middle;\n",
       "    }\n",
       "\n",
       "    .dataframe tbody tr th {\n",
       "        vertical-align: top;\n",
       "    }\n",
       "\n",
       "    .dataframe thead th {\n",
       "        text-align: right;\n",
       "    }\n",
       "</style>\n",
       "<table border=\"1\" class=\"dataframe\">\n",
       "  <thead>\n",
       "    <tr style=\"text-align: right;\">\n",
       "      <th></th>\n",
       "      <th>quote_date</th>\n",
       "      <th>iv_slope</th>\n",
       "      <th>iv_curvature</th>\n",
       "      <th>short_term_iv</th>\n",
       "      <th>long_term_iv</th>\n",
       "      <th>term_spread</th>\n",
       "    </tr>\n",
       "  </thead>\n",
       "  <tbody>\n",
       "    <tr>\n",
       "      <th>0</th>\n",
       "      <td>2023-01-03</td>\n",
       "      <td>0.002753</td>\n",
       "      <td>-0.000129</td>\n",
       "      <td>0.206402</td>\n",
       "      <td>0.213799</td>\n",
       "      <td>0.007397</td>\n",
       "    </tr>\n",
       "    <tr>\n",
       "      <th>1</th>\n",
       "      <td>2023-01-04</td>\n",
       "      <td>0.002241</td>\n",
       "      <td>-0.000095</td>\n",
       "      <td>0.204112</td>\n",
       "      <td>0.210150</td>\n",
       "      <td>0.006038</td>\n",
       "    </tr>\n",
       "    <tr>\n",
       "      <th>2</th>\n",
       "      <td>2023-01-05</td>\n",
       "      <td>-0.000048</td>\n",
       "      <td>0.000024</td>\n",
       "      <td>0.221476</td>\n",
       "      <td>0.221383</td>\n",
       "      <td>-0.000093</td>\n",
       "    </tr>\n",
       "    <tr>\n",
       "      <th>3</th>\n",
       "      <td>2023-01-06</td>\n",
       "      <td>0.004168</td>\n",
       "      <td>-0.000198</td>\n",
       "      <td>0.185371</td>\n",
       "      <td>0.196562</td>\n",
       "      <td>0.011192</td>\n",
       "    </tr>\n",
       "    <tr>\n",
       "      <th>4</th>\n",
       "      <td>2023-01-09</td>\n",
       "      <td>0.001635</td>\n",
       "      <td>-0.000065</td>\n",
       "      <td>0.205990</td>\n",
       "      <td>0.210401</td>\n",
       "      <td>0.004412</td>\n",
       "    </tr>\n",
       "  </tbody>\n",
       "</table>\n",
       "</div>"
      ],
      "text/plain": [
       "  quote_date  iv_slope  iv_curvature  short_term_iv  long_term_iv  term_spread\n",
       "0 2023-01-03  0.002753     -0.000129       0.206402      0.213799     0.007397\n",
       "1 2023-01-04  0.002241     -0.000095       0.204112      0.210150     0.006038\n",
       "2 2023-01-05 -0.000048      0.000024       0.221476      0.221383    -0.000093\n",
       "3 2023-01-06  0.004168     -0.000198       0.185371      0.196562     0.011192\n",
       "4 2023-01-09  0.001635     -0.000065       0.205990      0.210401     0.004412"
      ]
     },
     "execution_count": 32,
     "metadata": {},
     "output_type": "execute_result"
    }
   ],
   "source": [
    "term_structure_features.head()"
   ]
  },
  {
   "cell_type": "code",
   "execution_count": 34,
   "metadata": {},
   "outputs": [],
   "source": [
    "term_structure_features.set_index('quote_date', inplace=True)\n"
   ]
  },
  {
   "cell_type": "code",
   "execution_count": 35,
   "metadata": {},
   "outputs": [
    {
     "data": {
      "text/plain": [
       "250"
      ]
     },
     "execution_count": 35,
     "metadata": {},
     "output_type": "execute_result"
    }
   ],
   "source": [
    "len(term_structure_features)"
   ]
  },
  {
   "cell_type": "code",
   "execution_count": 36,
   "metadata": {},
   "outputs": [],
   "source": [
    "term_structure = term_structure_features"
   ]
  },
  {
   "cell_type": "code",
   "execution_count": 37,
   "metadata": {},
   "outputs": [],
   "source": [
    "term_structure.to_csv('data/term_structure.csv')"
   ]
  },
  {
   "cell_type": "code",
   "execution_count": null,
   "metadata": {},
   "outputs": [],
   "source": []
  }
 ],
 "metadata": {
  "kernelspec": {
   "display_name": "Python 3",
   "language": "python",
   "name": "python3"
  },
  "language_info": {
   "codemirror_mode": {
    "name": "ipython",
    "version": 3
   },
   "file_extension": ".py",
   "mimetype": "text/x-python",
   "name": "python",
   "nbconvert_exporter": "python",
   "pygments_lexer": "ipython3",
   "version": "3.12.5"
  }
 },
 "nbformat": 4,
 "nbformat_minor": 2
}
